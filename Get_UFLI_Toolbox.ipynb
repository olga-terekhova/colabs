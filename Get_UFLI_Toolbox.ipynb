{
  "nbformat": 4,
  "nbformat_minor": 0,
  "metadata": {
    "colab": {
      "provenance": [],
      "authorship_tag": "ABX9TyMiC4yI8O1vVcSK+LOZghUo",
      "include_colab_link": true
    },
    "kernelspec": {
      "name": "python3",
      "display_name": "Python 3"
    },
    "language_info": {
      "name": "python"
    }
  },
  "cells": [
    {
      "cell_type": "markdown",
      "metadata": {
        "id": "view-in-github",
        "colab_type": "text"
      },
      "source": [
        "<a href=\"https://colab.research.google.com/github/olga-terekhova/colabs/blob/main/Get_UFLI_Toolbox.ipynb\" target=\"_parent\"><img src=\"https://colab.research.google.com/assets/colab-badge.svg\" alt=\"Open In Colab\"/></a>"
      ]
    },
    {
      "cell_type": "markdown",
      "source": [
        "# Download UFLI toolbox files for selected lessons\n",
        "\n"
      ],
      "metadata": {
        "id": "O5YB0xzOt1EE"
      }
    },
    {
      "cell_type": "markdown",
      "source": [
        "**Specify parameters 1.1. - 1.3. below.**  \n",
        "Refer to https://ufli.education.ufl.edu/foundations/toolbox/ to find the needed toolbox.\n",
        "\n",
        "**Select menu *(Runtime - Run all)* or Press *(Ctrl-F9)* to prepare files.**  \n",
        "\n",
        "**Download the files** from the *Files* section on the left. There will be separate lesson files plus a \"UFLI_toolbox.pdf\" containing all separate lesson PDFs.  \n",
        "\n",
        "To reset and to download a new set of files, select menu *(Runtime - Disconnect and delete runtime)*, and start from the beginning."
      ],
      "metadata": {
        "id": "1lo_g3qIuF0t"
      }
    },
    {
      "cell_type": "markdown",
      "source": [
        "## 1. Set up parameters"
      ],
      "metadata": {
        "id": "Jdkcxh_Et81_"
      }
    },
    {
      "cell_type": "code",
      "source": [
        "# 1.1. Select the current UFLI toolbox\n",
        "# in the drop down on the right.\n",
        "\n",
        "current_toolbox = \"1-34\" #@param [\"1-34\", \"35-41\", \"42-53\", \"54-62\", \"63-68\", \"69-76\", \"77-83\", \"84-88\", \"89-94\", \"95-98\", \"99-106\", \"107-110\", \"111-118\", \"119-128\" ]"
      ],
      "metadata": {
        "id": "oc9fSurswz2P"
      },
      "execution_count": 1,
      "outputs": []
    },
    {
      "cell_type": "code",
      "source": [
        "# 1.2. Specify the list of lessons to download separated by comma\n",
        "\n",
        "lesson_number_list = [19, 20, 21, 22]"
      ],
      "metadata": {
        "id": "aHCT8s4KkBJV"
      },
      "execution_count": 2,
      "outputs": []
    },
    {
      "cell_type": "code",
      "source": [
        "# 1.3. Specify the list of needed resource types.\n",
        "# Possible values: 'Decodable Passage', 'Home Practice', 'Roll and Read', 'Google Slides', 'PowerPoint'\n",
        "\n",
        "resource_type_list = ['Decodable Passage', 'Home Practice', 'Roll and Read']"
      ],
      "metadata": {
        "id": "lj96_X0wmFtZ"
      },
      "execution_count": 3,
      "outputs": []
    },
    {
      "cell_type": "markdown",
      "source": [
        "## Download and merge files"
      ],
      "metadata": {
        "id": "nTi64zLkuCpI"
      }
    },
    {
      "cell_type": "code",
      "source": [
        "# Set up file paths\n",
        "\n",
        "url = \"https://ufli.education.ufl.edu/foundations/toolbox/\" + current_toolbox + \"/\"\n",
        "lesson_number_list = [str(x) for x in lesson_number_list]\n",
        "min_lesson = min(lesson_number_list)\n",
        "max_lesson = max(lesson_number_list)\n",
        "merged_pdf_name = \"UFLI_toolbox_\" + min_lesson + \"_\" + max_lesson + \".pdf\""
      ],
      "metadata": {
        "id": "iDuvAI32yKiL"
      },
      "execution_count": 4,
      "outputs": []
    },
    {
      "cell_type": "code",
      "execution_count": 5,
      "metadata": {
        "id": "A-hhbg2zeBA4"
      },
      "outputs": [],
      "source": [
        "# Define download function\n",
        "\n",
        "import requests\n",
        "\n",
        "def download_file(url, filename):\n",
        "    response = requests.get(url)\n",
        "    if response.status_code == 200:\n",
        "        with open(filename, 'wb') as f:\n",
        "            f.write(response.content)\n",
        "        print(f\"File downloaded successfully as {filename}\")\n",
        "    else:\n",
        "        print(f\"Failed to download file. Status code: {response.status_code}\")"
      ]
    },
    {
      "cell_type": "code",
      "source": [
        "# Get links to the resources listed in the toolbox\n",
        "\n",
        "from bs4 import BeautifulSoup\n",
        "\n",
        "response = requests.get(url)\n",
        "\n",
        "if response.status_code == 200:\n",
        "    print(f\"Connected to toolbox {current_toolbox}\")\n",
        "    html = response.content\n",
        "    soup = BeautifulSoup(html, \"html.parser\")\n",
        "\n",
        "    selected_results = []\n",
        "\n",
        "    for div in soup.find_all(\"div\", class_=\"et_pb_text_inner\"):\n",
        "        table = div.find(\"table\")\n",
        "        if table:\n",
        "            for a in table.find_all(\"a\"):\n",
        "                full_title = a.get_text(strip=True)\n",
        "                parts = full_title.split(\" \", 1)\n",
        "                lesson_number = parts[0] if len(parts) > 0 else \"\"\n",
        "                resource_type = parts[1] if len(parts) > 1 else \"\"\n",
        "\n",
        "                # Apply filter\n",
        "                if resource_type in resource_type_list and lesson_number in lesson_number_list:\n",
        "                    selected_results.append({\n",
        "                        \"title\": full_title,\n",
        "                        \"address\": a.get(\"href\"),\n",
        "                        \"lesson_number\": lesson_number,\n",
        "                        \"resource_type\": resource_type\n",
        "                    })\n",
        "else:\n",
        "    print(f\"Failed to connect to toolbox {current_toolbox}. Status code: {response.status_code}\")\n",
        "\n",
        "\n",
        "print(selected_results)"
      ],
      "metadata": {
        "colab": {
          "base_uri": "https://localhost:8080/"
        },
        "id": "NWW3mT4HguKl",
        "outputId": "a26913da-fa7e-4fb6-f338-0e315c253d87"
      },
      "execution_count": 6,
      "outputs": [
        {
          "output_type": "stream",
          "name": "stdout",
          "text": [
            "Connected to toolbox 1-34\n",
            "[{'title': '19 Decodable Passage', 'address': 'https://ufli.education.ufl.edu/wp-content/uploads/2022/07/19_Decodable_UFLIFoundations.pdf', 'lesson_number': '19', 'resource_type': 'Decodable Passage'}, {'title': '19 Home Practice', 'address': 'https://ufli.education.ufl.edu/wp-content/uploads/2022/08/19_HomePractice_UFLI-Foundations.pdf', 'lesson_number': '19', 'resource_type': 'Home Practice'}, {'title': '19 Roll and Read', 'address': 'https://ufli.education.ufl.edu/wp-content/uploads/2022/07/19_RollRead_UFLIFoundations.pdf', 'lesson_number': '19', 'resource_type': 'Roll and Read'}, {'title': '20 Decodable Passage', 'address': 'https://ufli.education.ufl.edu/wp-content/uploads/2022/07/20_Decodable_UFLIFoundations.pdf', 'lesson_number': '20', 'resource_type': 'Decodable Passage'}, {'title': '20 Home Practice', 'address': 'https://ufli.education.ufl.edu/wp-content/uploads/2022/08/20_HomePractice_UFLI-Foundations.pdf', 'lesson_number': '20', 'resource_type': 'Home Practice'}, {'title': '20 Roll and Read', 'address': 'https://ufli.education.ufl.edu/wp-content/uploads/2022/07/20_RollRead_UFLIFoundations.pdf', 'lesson_number': '20', 'resource_type': 'Roll and Read'}, {'title': '21 Decodable Passage', 'address': 'https://ufli.education.ufl.edu/wp-content/uploads/2022/07/21_Decodable_UFLIFoundations.pdf', 'lesson_number': '21', 'resource_type': 'Decodable Passage'}, {'title': '21 Home Practice', 'address': 'https://ufli.education.ufl.edu/wp-content/uploads/2022/08/21_HomePractice_UFLI-Foundations-1.pdf', 'lesson_number': '21', 'resource_type': 'Home Practice'}, {'title': '21 Roll and Read', 'address': 'https://ufli.education.ufl.edu/wp-content/uploads/2022/07/21_RollRead_UFLIFoundations.pdf', 'lesson_number': '21', 'resource_type': 'Roll and Read'}, {'title': '22 Decodable Passage', 'address': 'https://ufli.education.ufl.edu/wp-content/uploads/2023/12/22_Decodable_UFLIFoundations-k.pdf', 'lesson_number': '22', 'resource_type': 'Decodable Passage'}, {'title': '22 Home Practice', 'address': 'https://ufli.education.ufl.edu/wp-content/uploads/2022/08/22_HomePractice_UFLI-Foundations-1.pdf', 'lesson_number': '22', 'resource_type': 'Home Practice'}, {'title': '22 Roll and Read', 'address': 'https://ufli.education.ufl.edu/wp-content/uploads/2022/07/22_RollRead_UFLIFoundations.pdf', 'lesson_number': '22', 'resource_type': 'Roll and Read'}]\n"
          ]
        }
      ]
    },
    {
      "cell_type": "code",
      "source": [
        "# Download resource files locally\n",
        "\n",
        "import os\n",
        "from urllib.parse import urlparse\n",
        "\n",
        "downloaded_filenames = []\n",
        "\n",
        "# Download resources\n",
        "for result in selected_results:\n",
        "    # Extract filename from URL\n",
        "    parsed_url = urlparse(result[\"address\"])\n",
        "    filename = os.path.basename(parsed_url.path)\n",
        "\n",
        "    # Add filename to the list\n",
        "    downloaded_filenames.append(filename)\n",
        "\n",
        "    # Download the file\n",
        "    download_file(result[\"address\"], filename)"
      ],
      "metadata": {
        "colab": {
          "base_uri": "https://localhost:8080/"
        },
        "id": "q51ZohwvnP33",
        "outputId": "4d0d5d1d-1758-4ed2-92c6-c74361048d19"
      },
      "execution_count": 7,
      "outputs": [
        {
          "output_type": "stream",
          "name": "stdout",
          "text": [
            "File downloaded successfully as 19_Decodable_UFLIFoundations.pdf\n",
            "File downloaded successfully as 19_HomePractice_UFLI-Foundations.pdf\n",
            "File downloaded successfully as 19_RollRead_UFLIFoundations.pdf\n",
            "File downloaded successfully as 20_Decodable_UFLIFoundations.pdf\n",
            "File downloaded successfully as 20_HomePractice_UFLI-Foundations.pdf\n",
            "File downloaded successfully as 20_RollRead_UFLIFoundations.pdf\n",
            "File downloaded successfully as 21_Decodable_UFLIFoundations.pdf\n",
            "File downloaded successfully as 21_HomePractice_UFLI-Foundations-1.pdf\n",
            "File downloaded successfully as 21_RollRead_UFLIFoundations.pdf\n",
            "File downloaded successfully as 22_Decodable_UFLIFoundations-k.pdf\n",
            "File downloaded successfully as 22_HomePractice_UFLI-Foundations-1.pdf\n",
            "File downloaded successfully as 22_RollRead_UFLIFoundations.pdf\n"
          ]
        }
      ]
    },
    {
      "cell_type": "code",
      "source": [
        "# Install PDF library\n",
        "\n",
        "!pip install -q PyPDF2"
      ],
      "metadata": {
        "colab": {
          "base_uri": "https://localhost:8080/"
        },
        "id": "tDNQAtx2pnZb",
        "outputId": "0f6db480-552a-4d65-cce4-1ddd7ea0a7fb"
      },
      "execution_count": 8,
      "outputs": [
        {
          "output_type": "stream",
          "name": "stdout",
          "text": [
            "\u001b[?25l   \u001b[90m━━━━━━━━━━━━━━━━━━━━━━━━━━━━━━━━━━━━━━━━\u001b[0m \u001b[32m0.0/232.6 kB\u001b[0m \u001b[31m?\u001b[0m eta \u001b[36m-:--:--\u001b[0m\r\u001b[2K   \u001b[91m━━━━━━━━━━━━━━━━━━━━━━━━━━\u001b[0m\u001b[90m╺\u001b[0m\u001b[90m━━━━━━━━━━━━━\u001b[0m \u001b[32m153.6/232.6 kB\u001b[0m \u001b[31m4.3 MB/s\u001b[0m eta \u001b[36m0:00:01\u001b[0m\r\u001b[2K   \u001b[90m━━━━━━━━━━━━━━━━━━━━━━━━━━━━━━━━━━━━━━━━\u001b[0m \u001b[32m232.6/232.6 kB\u001b[0m \u001b[31m3.9 MB/s\u001b[0m eta \u001b[36m0:00:00\u001b[0m\n",
            "\u001b[?25h"
          ]
        }
      ]
    },
    {
      "cell_type": "code",
      "source": [
        "# Define function to merge PDFs in a single file\n",
        "\n",
        "def merge_pdfs():\n",
        "  import PyPDF2\n",
        "\n",
        "  # create a list of all PDF files in the current directory\n",
        "  pdf_files = []\n",
        "  for filename in os.listdir():\n",
        "      if filename.endswith('.pdf'):\n",
        "          pdf_files.append(filename)\n",
        "\n",
        "  if merged_pdf_name in pdf_files:\n",
        "    return \"File \" + merged_pdf_name + \" already exists. No action taken. Delete it first.\"\n",
        "\n",
        "  if len(pdf_files) == 0:\n",
        "    return \"No PDF files found. No action taken.\"\n",
        "\n",
        "  # sort pdf_files in the alphabetical order\n",
        "  pdf_files.sort()\n",
        "\n",
        "  # merge all the files in the pdf_files list into a single pdf\n",
        "  merger = PyPDF2.PdfMerger()\n",
        "\n",
        "  for filename in pdf_files:\n",
        "      merger.append(filename)\n",
        "\n",
        "  merger.write(merged_pdf_name)\n",
        "\n",
        "  # get the string of filenames in pdf_files\n",
        "  pdf_files_str = ', \\n'.join(pdf_files)\n",
        "\n",
        "  return \"Files merged:\\n\" + pdf_files_str + \" \\n\\nRefresh the Files area and locate \" + merged_pdf_name + \".\""
      ],
      "metadata": {
        "id": "nXYXl9FKqMqn"
      },
      "execution_count": 9,
      "outputs": []
    },
    {
      "cell_type": "code",
      "source": [
        "# Merge all PDF files downloaded locally\n",
        "print(merge_pdfs())"
      ],
      "metadata": {
        "colab": {
          "base_uri": "https://localhost:8080/"
        },
        "id": "9c9LpCQRqh3W",
        "outputId": "b603c611-e8fc-477c-f76c-55da34b23407"
      },
      "execution_count": 10,
      "outputs": [
        {
          "output_type": "stream",
          "name": "stdout",
          "text": [
            "Files merged:\n",
            "19_Decodable_UFLIFoundations.pdf, \n",
            "19_HomePractice_UFLI-Foundations.pdf, \n",
            "19_RollRead_UFLIFoundations.pdf, \n",
            "20_Decodable_UFLIFoundations.pdf, \n",
            "20_HomePractice_UFLI-Foundations.pdf, \n",
            "20_RollRead_UFLIFoundations.pdf, \n",
            "21_Decodable_UFLIFoundations.pdf, \n",
            "21_HomePractice_UFLI-Foundations-1.pdf, \n",
            "21_RollRead_UFLIFoundations.pdf, \n",
            "22_Decodable_UFLIFoundations-k.pdf, \n",
            "22_HomePractice_UFLI-Foundations-1.pdf, \n",
            "22_RollRead_UFLIFoundations.pdf \n",
            "\n",
            "Refresh the Files area and locate UFLI_toolbox_19_22.pdf.\n"
          ]
        }
      ]
    }
  ]
}