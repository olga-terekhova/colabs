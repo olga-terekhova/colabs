{
  "nbformat": 4,
  "nbformat_minor": 0,
  "metadata": {
    "colab": {
      "provenance": [],
      "mount_file_id": "15fNi-utWugHIdwxdRJYk1-zMdui7jspe",
      "authorship_tag": "ABX9TyPRass87mt9wWBlpm4M2K2i",
      "include_colab_link": true
    },
    "kernelspec": {
      "name": "python3",
      "display_name": "Python 3"
    },
    "language_info": {
      "name": "python"
    }
  },
  "cells": [
    {
      "cell_type": "markdown",
      "metadata": {
        "id": "view-in-github",
        "colab_type": "text"
      },
      "source": [
        "<a href=\"https://colab.research.google.com/github/olga-terekhova/colabs/blob/main/Trip_Timeline_Creator.ipynb\" target=\"_parent\"><img src=\"https://colab.research.google.com/assets/colab-badge.svg\" alt=\"Open In Colab\"/></a>"
      ]
    },
    {
      "cell_type": "markdown",
      "source": [
        "# Trip Timeline Creator"
      ],
      "metadata": {
        "id": "QmyDOPaFvAmI"
      }
    },
    {
      "cell_type": "markdown",
      "source": [
        "Create timeline and merged PDFs for a collection of files with trip bookings (transport, accommodation). Works well for several groups of people going on the same trip: each group gets their own swimlane on the timeline and their own PDF file with all relevant documents."
      ],
      "metadata": {
        "id": "-v0b0nN4uvhh"
      }
    },
    {
      "cell_type": "markdown",
      "source": [
        "## User guide"
      ],
      "metadata": {
        "id": "EvqiGS1FvTt7"
      }
    },
    {
      "cell_type": "markdown",
      "source": [
        "This notebook takes a list of files on a mounted Google Drive. \n",
        "\n",
        "The filenames are expected to be in this format:\n",
        "YYYYMMDD HHMM To YYYYMMDD HHMM - Hotel XXXX - Group.pdf\n",
        "\n",
        "Possible activity types: \n",
        "'Airplane', 'Taxi', 'Hotel', 'Airbnb', 'Visa'.\n",
        "\n",
        "Possible group labels are listed in the group_list (See Parameters below). Use unique abbreviation as group labels. \n",
        "\n",
        "The datetimes are used to create a timeline of activities.\n",
        "\n",
        "PDFs referring to the same group of people are merged into one single PDF. \n",
        "\n",
        "The results are saved in the Google Colab instance root folder."
      ],
      "metadata": {
        "id": "74_uY7mxtuWf"
      }
    },
    {
      "cell_type": "markdown",
      "source": [
        "## Installation prerequisites"
      ],
      "metadata": {
        "id": "0CwgJo_xxOCS"
      }
    },
    {
      "cell_type": "markdown",
      "source": [
        "Run only this cell first:"
      ],
      "metadata": {
        "id": "jwuerTdgxZ8N"
      }
    },
    {
      "cell_type": "code",
      "source": [
        "# Install Kaleido to save charts as pictures\n",
        "\n",
        "!pip install -U kaleido"
      ],
      "metadata": {
        "colab": {
          "base_uri": "https://localhost:8080/"
        },
        "id": "S56tgpPyciat",
        "outputId": "98d6dc48-23a3-4624-d866-e4d55017ba7f"
      },
      "execution_count": 1,
      "outputs": [
        {
          "output_type": "stream",
          "name": "stdout",
          "text": [
            "Looking in indexes: https://pypi.org/simple, https://us-python.pkg.dev/colab-wheels/public/simple/\n",
            "Collecting kaleido\n",
            "  Downloading kaleido-0.2.1-py2.py3-none-manylinux1_x86_64.whl (79.9 MB)\n",
            "\u001b[2K     \u001b[90m━━━━━━━━━━━━━━━━━━━━━━━━━━━━━━━━━━━━━━━━\u001b[0m \u001b[32m79.9/79.9 MB\u001b[0m \u001b[31m7.1 MB/s\u001b[0m eta \u001b[36m0:00:00\u001b[0m\n",
            "\u001b[?25hInstalling collected packages: kaleido\n",
            "Successfully installed kaleido-0.2.1\n"
          ]
        }
      ]
    },
    {
      "cell_type": "markdown",
      "source": [
        "Restart the runtime.\n",
        "\n",
        "Run after beginning from the next cell."
      ],
      "metadata": {
        "id": "D_PZssK8xT6O"
      }
    },
    {
      "cell_type": "markdown",
      "source": [
        "## Parameters"
      ],
      "metadata": {
        "id": "DfE5U8ktv_SZ"
      }
    },
    {
      "cell_type": "code",
      "source": [
        "# List of abbreviation referring to groups of people on the trip. Should be part of file names\n",
        "group_list = [\"OMML\", \"OV\", \"EV\"]"
      ],
      "metadata": {
        "id": "Q9hg127nw3LL"
      },
      "execution_count": 1,
      "outputs": []
    },
    {
      "cell_type": "code",
      "source": [
        "# Define parent folder for Google Drive\n",
        "parent_folder_name = \"/content/drive/My Drive/\"\n",
        "\n",
        "# Define location to a config json file which stores a path to the booking files\n",
        "# The config json file should store this content: \n",
        "#    {\"trip_timeline\": \"/content/drive/My Drive/... your folder name in Google Drive where source documents are stored/\"}\n",
        "config_file_name = \"Colab Notebooks/config_trip_timeline.json\"\n"
      ],
      "metadata": {
        "id": "jmzxgH0jrinb"
      },
      "execution_count": 2,
      "outputs": []
    },
    {
      "cell_type": "markdown",
      "source": [
        "## Main code"
      ],
      "metadata": {
        "id": "utIDZJwQySce"
      }
    },
    {
      "cell_type": "code",
      "source": [
        "# Install PyPDF2\n",
        "!pip install PyPDF2"
      ],
      "metadata": {
        "colab": {
          "base_uri": "https://localhost:8080/"
        },
        "id": "iBMIPLofEmZf",
        "outputId": "659a5425-0155-4ad9-bfbd-9e402357714d"
      },
      "execution_count": 3,
      "outputs": [
        {
          "output_type": "stream",
          "name": "stdout",
          "text": [
            "Looking in indexes: https://pypi.org/simple, https://us-python.pkg.dev/colab-wheels/public/simple/\n",
            "Collecting PyPDF2\n",
            "  Downloading pypdf2-3.0.1-py3-none-any.whl (232 kB)\n",
            "\u001b[2K     \u001b[90m━━━━━━━━━━━━━━━━━━━━━━━━━━━━━━━━━━━━━━━\u001b[0m \u001b[32m232.6/232.6 kB\u001b[0m \u001b[31m5.0 MB/s\u001b[0m eta \u001b[36m0:00:00\u001b[0m\n",
            "\u001b[?25hInstalling collected packages: PyPDF2\n",
            "Successfully installed PyPDF2-3.0.1\n"
          ]
        }
      ]
    },
    {
      "cell_type": "code",
      "execution_count": 4,
      "metadata": {
        "id": "QGmMKH7r3uu_"
      },
      "outputs": [],
      "source": [
        "# Load the Drive helper and mount\n",
        "from google.colab import drive\n"
      ]
    },
    {
      "cell_type": "code",
      "source": [
        "# Read project parameters\n",
        "# Set up before hand: add a file Colab Notebooks/config_trip_timeline.json with the content:\n",
        "# {\"trip_timeline\": \"/content/drive/My Drive/... your folder name where source documents are stored/\"} \n",
        "\n",
        "import json\n",
        "\n",
        "# Read the JSON file\n",
        "with open(parent_folder_name + config_file_name, \"r\") as file:\n",
        "    config_data = json.load(file)\n",
        "\n",
        "# Get the value of trip_timeline\n",
        "folder_name = config_data[\"trip_timeline\"]"
      ],
      "metadata": {
        "id": "csIut9Bpo3WE"
      },
      "execution_count": 5,
      "outputs": []
    },
    {
      "cell_type": "code",
      "source": [
        "# Read the list of files in the folder\n",
        "filelist = !ls \"$folder_name\""
      ],
      "metadata": {
        "id": "edHlB7zwBLrK"
      },
      "execution_count": 6,
      "outputs": []
    },
    {
      "cell_type": "code",
      "source": [
        "# Print the list if desired\n",
        "# for file in filelist:\n",
        "#  print(file)"
      ],
      "metadata": {
        "id": "hP5DluDKBc5f"
      },
      "execution_count": 7,
      "outputs": []
    },
    {
      "cell_type": "code",
      "source": [
        "# Parsing the names of files\n",
        "import re\n",
        "import pandas as pd\n",
        "\n",
        "date_regex = r'(\\d{8})'\n",
        "time_regex = r'(\\d{4})'\n",
        "print_guide = [\"NOPRINT\"] # if added to the name of the file, it won't be included in the final PDF\n",
        "\n",
        "# Empty lists to store the extracted information\n",
        "data = []\n",
        "\n",
        "for file in filelist:\n",
        "  file_string = file.strip(\"\\'\")\n",
        "  \n",
        "  # Splitting the input string using ' - ' as the separator\n",
        "  parts = file_string.split(' - ', 1)  \n",
        "\n",
        "  # Extracting PeriodString and ActionString\n",
        "  PeriodString = parts[0]\n",
        "  ActionString = parts[1]\n",
        "\n",
        "  # Extracting StartDate, StartTime, EndDate, EndTime, and ActionType from PeriodString\n",
        "  StartDate = re.search(date_regex, PeriodString).group(1)\n",
        "  StartTime = re.search(time_regex, PeriodString[9:]).group(1)\n",
        "  EndDate = re.search(date_regex, PeriodString[PeriodString.index('To') + 3:]).group(1)\n",
        "  EndTime = re.search(time_regex, PeriodString[PeriodString.index('To') + 12:]).group(1)\n",
        "\n",
        "  # Extracting ActionType from ActionString\n",
        "  ActionType = ActionString.split(' ')[0]\n",
        "\n",
        "  # Searching for substrings in the group_list\n",
        "  Group = None\n",
        "  for group in group_list:\n",
        "    if group in ActionString:\n",
        "        Group = group\n",
        "        break\n",
        "\n",
        "  # Searching for print instructions\n",
        "  Print_Ins = None\n",
        "  for print_ins in print_guide:\n",
        "    if print_ins in ActionString:\n",
        "      Print_Ins = print_ins\n",
        "      break\n",
        "\n",
        "  file_dict = {\n",
        "        'FileName': file_string,\n",
        "        'StartDate': StartDate,\n",
        "        'StartTime': StartTime,\n",
        "        'EndDate': EndDate,\n",
        "        'EndTime': EndTime,\n",
        "        'ActionType': ActionType,\n",
        "        'Group': Group,\n",
        "        'Print_Ins': Print_Ins\n",
        "  \n",
        "  }\n",
        "\n",
        "  # Appending the dictionary to the data list\n",
        "  data.append(file_dict)\n",
        "\n",
        "\n",
        "# Creating a pandas DataFrame from the list of dictionaries\n",
        "df = pd.DataFrame(data)\n",
        "\n",
        "# Printing the DataFrame if desired\n",
        "# print(df)\n"
      ],
      "metadata": {
        "id": "01_4crd6DR7S"
      },
      "execution_count": 8,
      "outputs": []
    },
    {
      "cell_type": "code",
      "source": [
        "%%capture  \n",
        "\n",
        "# (Remove %%capture to see the output figure)\n",
        "\n",
        "# Creating a chart with timeline\n",
        "import plotly.express as px\n",
        "\n",
        "# Convert StartDate and StartTime to necessary format\n",
        "df['Start'] = pd.to_datetime(df['StartDate'] + ' ' + df['StartTime'], format='%Y%m%d %H%M')\n",
        "\n",
        "# Convert EndDate and EndTime to necessary format\n",
        "df['Finish'] = pd.to_datetime(df['EndDate'] + ' ' + df['EndTime'], format='%Y%m%d %H%M')\n",
        "\n",
        "# Set the width based on ActionType\n",
        "df['Width'] = df['ActionType'].apply(lambda x: 0.6 if x == 'Airplane' else\n",
        "                                           0.5 if x == 'Taxi' else\n",
        "                                           0.4 if x in ['Hotel', 'Airbnb'] else\n",
        "                                           0.4)\n",
        "\n",
        "# Set the color map for every activity\n",
        "cm = {'Airplane':'#89c0d6', 'Taxi':'#d87cab', 'Hotel': '#d4d351', 'Airbnb':'#93b264', 'Visa': '#e06c6c'}\n",
        "\n",
        "# Create the timeline chart\n",
        "fig = px.timeline(df, x_start='Start', x_end='Finish', y='Group', color='ActionType', color_discrete_map=cm,\n",
        "                  text='ActionType', \n",
        "                  width=4000)\n",
        "\n",
        "# Change width for different action types\n",
        "for i, d in enumerate(fig.data):\n",
        "    d.width = df[df['ActionType']==d.name]['Width']  \n",
        "\n",
        "# Customize the layout\n",
        "fig.update_layout(\n",
        "    title='Action Timeline',\n",
        "    plot_bgcolor='#fcfcfc',\n",
        "    uniformtext_minsize=7, uniformtext_mode='show',\n",
        "    xaxis=dict(title='Time', \n",
        "               tickformat='%Y-%m-%d',\n",
        "               dtick='D1',        \n",
        "               showgrid=True,  # Show grid lines\n",
        "               gridcolor='black',  # Set grid lines color to black\n",
        "               ticklabelmode=\"period\"\n",
        " ),\n",
        "    yaxis=dict(title='Action Type'),\n",
        "    showlegend=True\n",
        ")\n",
        "\n",
        "# Set the layer property of text elements\n",
        "fig.update_traces(textposition='inside',textfont=dict(color='black'),insidetextanchor=\"start\")\n",
        "\n",
        "# Show the chart\n",
        "fig.show()\n"
      ],
      "metadata": {
        "id": "-HjvsTobL21H"
      },
      "execution_count": 9,
      "outputs": []
    },
    {
      "cell_type": "code",
      "source": [
        "import kaleido\n",
        "\n",
        "# Save the chart as a PNG file\n",
        "fig.write_image('timeline_chart.png', engine='kaleido')\n",
        "print(\"Timeline saved to timeline_chart.png\")\n"
      ],
      "metadata": {
        "id": "Aj_hzs1ibhl5",
        "colab": {
          "base_uri": "https://localhost:8080/"
        },
        "collapsed": true,
        "outputId": "d38038cd-8c1f-4ec3-e9b9-cec3290dbb4a"
      },
      "execution_count": 12,
      "outputs": [
        {
          "output_type": "stream",
          "name": "stdout",
          "text": [
            "Timeline saved to timeline_chart.png\n"
          ]
        }
      ]
    },
    {
      "cell_type": "code",
      "source": [
        "# Printing a PDF for every group\n",
        "from PyPDF2 import PdfMerger\n",
        "\n",
        "for group in group_list:\n",
        "  file_names = df[(df['Group'] == group) & (df['Print_Ins'] != 'NOPRINT') ]['FileName'].tolist()\n",
        "\n",
        "  full_file_names = []\n",
        "  for file_name in file_names:\n",
        "    full_file_name = folder_name + file_name\n",
        "    full_file_names.append(full_file_name)\n",
        "\n",
        "  # Create a PdfFileMerger object\n",
        "  merger = PdfMerger(strict=False)\n",
        "\n",
        "  # Append each PDF file to the merger\n",
        "  for pdf_file in full_file_names:\n",
        "      merger.append(pdf_file)\n",
        "\n",
        "  # Output file name for the merged PDF\n",
        "  output_file = '2023_Timeline_All_Docs_'+group+'.pdf'\n",
        "\n",
        "  # Write the merged PDF to the output file\n",
        "  merger.write(output_file)\n",
        "\n",
        "  # Close the merger\n",
        "  merger.close()\n",
        "\n",
        "  # Signal ending\n",
        "  print(\"Finished for \"+group + \". See 2023_Timeline_All_Docs_\"+group+\".pdf.\")\n",
        "\n",
        "\n"
      ],
      "metadata": {
        "colab": {
          "base_uri": "https://localhost:8080/"
        },
        "id": "PtIBY2nTrImH",
        "outputId": "c20f0357-59f3-4691-cfe4-b1c92435d5db"
      },
      "execution_count": 11,
      "outputs": [
        {
          "output_type": "stream",
          "name": "stdout",
          "text": [
            "Finished for OMML. See 2023_Timeline_All_Docs_OMML.pdf.\n",
            "Finished for OV. See 2023_Timeline_All_Docs_OV.pdf.\n",
            "Finished for EV. See 2023_Timeline_All_Docs_EV.pdf.\n"
          ]
        }
      ]
    }
  ]
}